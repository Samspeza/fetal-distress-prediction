{
  "cells": [
    {
      "cell_type": "markdown",
      "metadata": {
        "id": "cL8iUNRkKnnN"
      },
      "source": [
        "## Instalando o MLflow"
      ]
    },
    {
      "cell_type": "code",
      "execution_count": 1,
      "metadata": {
        "id": "8ZqLomD1JbEn"
      },
      "outputs": [],
      "source": [
        "%%capture\n",
        "!pip install mlflow -q"
      ]
    },
    {
      "cell_type": "markdown",
      "metadata": {
        "id": "jAnzWtfqKsfI"
      },
      "source": [
        "## import das bibliotecas"
      ]
    },
    {
      "cell_type": "code",
      "execution_count": 2,
      "metadata": {
        "id": "MAn3URFmJihs"
      },
      "outputs": [],
      "source": [
        "import os\n",
        "import mlflow\n",
        "import numpy as np"
      ]
    },
    {
      "cell_type": "markdown",
      "metadata": {
        "id": "PhBP5HFCKvYb"
      },
      "source": [
        "## Configurando o MLflow"
      ]
    },
    {
      "cell_type": "code",
      "execution_count": 4,
      "metadata": {
        "id": "Bu43IC6oJj1L"
      },
      "outputs": [],
      "source": [
        "MLFLOW_TRACKING_URI = ''\n",
        "MLFLOW_TRACKING_USERNAME = ''\n",
        "MLFLOW_TRACKING_PASSWORD = ''\n",
        "os.environ['MLFLOW_TRACKING_USERNAME'] = MLFLOW_TRACKING_USERNAME\n",
        "os.environ['MLFLOW_TRACKING_PASSWORD'] = MLFLOW_TRACKING_PASSWORD\n",
        "\n",
        "mlflow.set_tracking_uri(MLFLOW_TRACKING_URI)"
      ]
    },
    {
      "cell_type": "markdown",
      "metadata": {
        "id": "dbFFAEaGK0lX"
      },
      "source": [
        "## Criando um client para comunicar com o registro no DagsHub"
      ]
    },
    {
      "cell_type": "code",
      "execution_count": 5,
      "metadata": {
        "id": "wax9ipKjKShr"
      },
      "outputs": [],
      "source": [
        "client = mlflow.MlflowClient(tracking_uri=MLFLOW_TRACKING_URI)"
      ]
    },
    {
      "cell_type": "code",
      "execution_count": 6,
      "metadata": {
        "id": "fWlu0lRiLp3u"
      },
      "outputs": [
        {
          "data": {
            "text/plain": [
              "<mlflow.tracking.client.MlflowClient at 0x18ee90e1bd0>"
            ]
          },
          "execution_count": 6,
          "metadata": {},
          "output_type": "execute_result"
        }
      ],
      "source": [
        "client"
      ]
    },
    {
      "cell_type": "markdown",
      "metadata": {
        "id": "m1NMo6kfLBtq"
      },
      "source": [
        "## Recebendo o modelo registrado e suas versões"
      ]
    },
    {
      "cell_type": "code",
      "execution_count": null,
      "metadata": {
        "id": "8oSsyfv0K6j5"
      },
      "outputs": [
        {
          "ename": "MlflowException",
          "evalue": "Registered Model with name=NAME not found",
          "output_type": "error",
          "traceback": [
            "\u001b[31m---------------------------------------------------------------------------\u001b[39m",
            "\u001b[31mMlflowException\u001b[39m                           Traceback (most recent call last)",
            "\u001b[36mCell\u001b[39m\u001b[36m \u001b[39m\u001b[32mIn[11]\u001b[39m\u001b[32m, line 1\u001b[39m\n\u001b[32m----> \u001b[39m\u001b[32m1\u001b[39m registered_model = \u001b[43mclient\u001b[49m\u001b[43m.\u001b[49m\u001b[43mget_registered_model\u001b[49m\u001b[43m(\u001b[49m\u001b[33;43m'\u001b[39;49m\u001b[33;43mNAME\u001b[39;49m\u001b[33;43m'\u001b[39;49m\u001b[43m)\u001b[49m\n",
            "\u001b[36mFile \u001b[39m\u001b[32m~\\AppData\\Local\\Packages\\PythonSoftwareFoundation.Python.3.11_qbz5n2kfra8p0\\LocalCache\\local-packages\\Python311\\site-packages\\mlflow\\tracking\\client.py:3951\u001b[39m, in \u001b[36mMlflowClient.get_registered_model\u001b[39m\u001b[34m(self, name)\u001b[39m\n\u001b[32m   3910\u001b[39m \u001b[38;5;28;01mdef\u001b[39;00m\u001b[38;5;250m \u001b[39m\u001b[34mget_registered_model\u001b[39m(\u001b[38;5;28mself\u001b[39m, name: \u001b[38;5;28mstr\u001b[39m) -> RegisteredModel:\n\u001b[32m   3911\u001b[39m \u001b[38;5;250m    \u001b[39m\u001b[33;03m\"\"\"Get a registered model.\u001b[39;00m\n\u001b[32m   3912\u001b[39m \n\u001b[32m   3913\u001b[39m \u001b[33;03m    Args:\u001b[39;00m\n\u001b[32m   (...)\u001b[39m\u001b[32m   3949\u001b[39m \u001b[33;03m        description: This sentiment analysis model classifies the tone-happy, sad, angry.\u001b[39;00m\n\u001b[32m   3950\u001b[39m \u001b[33;03m    \"\"\"\u001b[39;00m\n\u001b[32m-> \u001b[39m\u001b[32m3951\u001b[39m     rm = \u001b[38;5;28;43mself\u001b[39;49m\u001b[43m.\u001b[49m\u001b[43m_get_registry_client\u001b[49m\u001b[43m(\u001b[49m\u001b[43m)\u001b[49m\u001b[43m.\u001b[49m\u001b[43mget_registered_model\u001b[49m\u001b[43m(\u001b[49m\u001b[43mname\u001b[49m\u001b[43m)\u001b[49m\n\u001b[32m   3953\u001b[39m     \u001b[38;5;66;03m# Prompt should not be returned as a registered model\u001b[39;00m\n\u001b[32m   3954\u001b[39m     \u001b[38;5;28;01mif\u001b[39;00m has_prompt_tag(rm._tags):\n",
            "\u001b[36mFile \u001b[39m\u001b[32m~\\AppData\\Local\\Packages\\PythonSoftwareFoundation.Python.3.11_qbz5n2kfra8p0\\LocalCache\\local-packages\\Python311\\site-packages\\mlflow\\tracking\\_model_registry\\client.py:158\u001b[39m, in \u001b[36mModelRegistryClient.get_registered_model\u001b[39m\u001b[34m(self, name)\u001b[39m\n\u001b[32m    150\u001b[39m \u001b[38;5;28;01mdef\u001b[39;00m\u001b[38;5;250m \u001b[39m\u001b[34mget_registered_model\u001b[39m(\u001b[38;5;28mself\u001b[39m, name):\n\u001b[32m    151\u001b[39m \u001b[38;5;250m    \u001b[39m\u001b[33;03m\"\"\"\u001b[39;00m\n\u001b[32m    152\u001b[39m \u001b[33;03m    Args:\u001b[39;00m\n\u001b[32m    153\u001b[39m \u001b[33;03m        name: Name of the registered model to get.\u001b[39;00m\n\u001b[32m   (...)\u001b[39m\u001b[32m    156\u001b[39m \u001b[33;03m        A single :py:class:`mlflow.entities.model_registry.RegisteredModel` object.\u001b[39;00m\n\u001b[32m    157\u001b[39m \u001b[33;03m    \"\"\"\u001b[39;00m\n\u001b[32m--> \u001b[39m\u001b[32m158\u001b[39m     \u001b[38;5;28;01mreturn\u001b[39;00m \u001b[38;5;28;43mself\u001b[39;49m\u001b[43m.\u001b[49m\u001b[43mstore\u001b[49m\u001b[43m.\u001b[49m\u001b[43mget_registered_model\u001b[49m\u001b[43m(\u001b[49m\u001b[43mname\u001b[49m\u001b[43m)\u001b[49m\n",
            "\u001b[36mFile \u001b[39m\u001b[32m~\\AppData\\Local\\Packages\\PythonSoftwareFoundation.Python.3.11_qbz5n2kfra8p0\\LocalCache\\local-packages\\Python311\\site-packages\\mlflow\\store\\model_registry\\file_store.py:423\u001b[39m, in \u001b[36mFileStore.get_registered_model\u001b[39m\u001b[34m(self, name)\u001b[39m\n\u001b[32m    421\u001b[39m model_path = \u001b[38;5;28mself\u001b[39m._get_registered_model_path(name)\n\u001b[32m    422\u001b[39m \u001b[38;5;28;01mif\u001b[39;00m \u001b[38;5;129;01mnot\u001b[39;00m exists(model_path):\n\u001b[32m--> \u001b[39m\u001b[32m423\u001b[39m     \u001b[38;5;28;01mraise\u001b[39;00m MlflowException(\n\u001b[32m    424\u001b[39m         \u001b[33mf\u001b[39m\u001b[33m\"\u001b[39m\u001b[33mRegistered Model with name=\u001b[39m\u001b[38;5;132;01m{\u001b[39;00mname\u001b[38;5;132;01m}\u001b[39;00m\u001b[33m not found\u001b[39m\u001b[33m\"\u001b[39m,\n\u001b[32m    425\u001b[39m         RESOURCE_DOES_NOT_EXIST,\n\u001b[32m    426\u001b[39m     )\n\u001b[32m    427\u001b[39m \u001b[38;5;28;01mreturn\u001b[39;00m \u001b[38;5;28mself\u001b[39m._get_registered_model_from_path(model_path)\n",
            "\u001b[31mMlflowException\u001b[39m: Registered Model with name=NAME not found"
          ]
        }
      ],
      "source": [
        "registered_model = client.get_registered_model('MODEL_NAME')"
      ]
    },
    {
      "cell_type": "code",
      "execution_count": 8,
      "metadata": {
        "id": "e2DDK_6_LPi5"
      },
      "outputs": [
        {
          "ename": "NameError",
          "evalue": "name 'registered_model' is not defined",
          "output_type": "error",
          "traceback": [
            "\u001b[31m---------------------------------------------------------------------------\u001b[39m",
            "\u001b[31mNameError\u001b[39m                                 Traceback (most recent call last)",
            "\u001b[36mCell\u001b[39m\u001b[36m \u001b[39m\u001b[32mIn[8]\u001b[39m\u001b[32m, line 1\u001b[39m\n\u001b[32m----> \u001b[39m\u001b[32m1\u001b[39m \u001b[43mregistered_model\u001b[49m.latest_versions\n",
            "\u001b[31mNameError\u001b[39m: name 'registered_model' is not defined"
          ]
        }
      ],
      "source": [
        "registered_model.latest_versions"
      ]
    },
    {
      "cell_type": "markdown",
      "metadata": {
        "id": "DfBd2wRdLRPC"
      },
      "source": [
        "## Obtendo o id da execução do modelo"
      ]
    },
    {
      "cell_type": "code",
      "execution_count": null,
      "metadata": {
        "id": "HG-BzNlkK9oC"
      },
      "outputs": [],
      "source": [
        "run_id = registered_model.latest_versions[-1].run_id"
      ]
    },
    {
      "cell_type": "markdown",
      "metadata": {
        "id": "WORhnvgnLYrX"
      },
      "source": [
        "## Carregando o modelo"
      ]
    },
    {
      "cell_type": "code",
      "execution_count": null,
      "metadata": {
        "id": "xa1ZTR6OK_hg"
      },
      "outputs": [],
      "source": [
        "logged_model = f'runs:/{run_id}/model'\n",
        "loaded_model = mlflow.pyfunc.load_model(logged_model)"
      ]
    },
    {
      "cell_type": "markdown",
      "metadata": {
        "id": "IQBbf3xULc1A"
      },
      "source": [
        "## Fazendo uma predição com o modelo carregadO"
      ]
    },
    {
      "cell_type": "code",
      "execution_count": null,
      "metadata": {
        "id": "SwbDW9aLJziQ"
      },
      "outputs": [],
      "source": [
        "accelerations = 0\n",
        "fetal_movement = 0\n",
        "uterine_contractions = 0\n",
        "severe_decelerations = 0"
      ]
    },
    {
      "cell_type": "code",
      "execution_count": null,
      "metadata": {
        "id": "s-Ed15fsJv5k"
      },
      "outputs": [],
      "source": [
        "received_data = np.array([\n",
        "        accelerations,\n",
        "        fetal_movement,\n",
        "        uterine_contractions,\n",
        "        severe_decelerations,\n",
        "    ]).reshape(1, -1)"
      ]
    },
    {
      "cell_type": "code",
      "execution_count": null,
      "metadata": {
        "id": "Mpc1_Y57J_xV"
      },
      "outputs": [],
      "source": [
        "received_data"
      ]
    },
    {
      "cell_type": "code",
      "execution_count": null,
      "metadata": {
        "id": "lV6gcA8dJmX0"
      },
      "outputs": [],
      "source": [
        "loaded_model.predict(received_data)"
      ]
    }
  ],
  "metadata": {
    "colab": {
      "provenance": []
    },
    "kernelspec": {
      "display_name": "Python 3",
      "name": "python3"
    },
    "language_info": {
      "codemirror_mode": {
        "name": "ipython",
        "version": 3
      },
      "file_extension": ".py",
      "mimetype": "text/x-python",
      "name": "python",
      "nbconvert_exporter": "python",
      "pygments_lexer": "ipython3",
      "version": "3.11.9"
    }
  },
  "nbformat": 4,
  "nbformat_minor": 0
}
